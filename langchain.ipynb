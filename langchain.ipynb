{
 "cells": [
  {
   "cell_type": "code",
   "execution_count": 3,
   "id": "c635b120",
   "metadata": {},
   "outputs": [],
   "source": [
    "!pip install --quiet langchain langchain-google-genai google-generativeai python-dotenv ddgs\n"
   ]
  },
  {
   "cell_type": "code",
   "execution_count": null,
   "id": "3bf6e250",
   "metadata": {},
   "outputs": [],
   "source": [
    "import os\n",
    "from dotenv import load_dotenv\n",
    "from langchain_google_genai import ChatGoogleGenerativeAI\n",
    "\n",
    "load_dotenv()\n",
    "api_key = os.getenv(\"GOOGLE_API_KEY\")\n",
    "\n",
    "llm = ChatGoogleGenerativeAI(\n",
    "    model=\"models/gemini-1.5-flash\",  \n",
    "    temperature=0,\n",
    "    google_api_key=api_key,\n",
    ")\n"
   ]
  },
  {
   "cell_type": "code",
   "execution_count": 5,
   "id": "fc7f4c8a",
   "metadata": {},
   "outputs": [
    {
     "name": "stderr",
     "output_type": "stream",
     "text": [
      "C:\\Users\\Naman Goyal\\AppData\\Local\\Temp\\ipykernel_1596\\1569496510.py:5: LangChainDeprecationWarning: The class `LLMChain` was deprecated in LangChain 0.1.17 and will be removed in 1.0. Use :meth:`~RunnableSequence, e.g., `prompt | llm`` instead.\n",
      "  chain = LLMChain(llm=llm, prompt=prompt)\n"
     ]
    },
    {
     "name": "stdout",
     "output_type": "stream",
     "text": [
      "Le ciel est bleu.\n"
     ]
    }
   ],
   "source": [
    "from langchain.chains import LLMChain\n",
    "from langchain.prompts import PromptTemplate\n",
    "\n",
    "prompt = PromptTemplate.from_template(\"Translate this sentence to French: {sentence}\")\n",
    "chain = LLMChain(llm=llm, prompt=prompt)\n",
    "\n",
    "result = chain.invoke({\"sentence\": \"The sky is blue.\"})\n",
    "print(result['text'])\n"
   ]
  },
  {
   "cell_type": "code",
   "execution_count": 10,
   "id": "1ac9f006",
   "metadata": {},
   "outputs": [
    {
     "name": "stderr",
     "output_type": "stream",
     "text": [
      "c:\\Users\\Naman Goyal\\AppData\\Local\\Programs\\Python\\Python311\\Lib\\site-packages\\langchain_community\\utilities\\duckduckgo_search.py:63: RuntimeWarning: This package (`duckduckgo_search`) has been renamed to `ddgs`! Use `pip install ddgs` instead.\n",
      "  with DDGS() as ddgs:\n"
     ]
    },
    {
     "name": "stdout",
     "output_type": "stream",
     "text": [
      "Search result: May 1, 2025 · FIFA looks back on France’s pulsating last-16 victory over Argentina at Russia 2018 when Kylian Mbappe announced himself on the global stage. Jul 6, 2025 · Of those hopefuls, 24 FIFA World Cup™ winners travelled looking to become the first players to win the global double. Jul 1, 2025 · His unforgettable goal against Croatia in the 2018 World Cup final – a 4-2 victory that saw France crowned world champions for a second time – solidified his place in the nation’s ... Jul 6, 2025 · The 37-year-old helped Croatia to a historic FIFA World Cup final in 2018, and also won a host of honours with Barcelona. Jan 18, 2025 · Samuel Umtiti scored the goal which put France in the 2018 FIFA World Cup final, and celebrated it in unforgettable fashion, inspiring the lyrics of a hit song.\n"
     ]
    }
   ],
   "source": [
    "from langchain.tools import DuckDuckGoSearchRun\n",
    "\n",
    "search = DuckDuckGoSearchRun()\n",
    "result = search.run(\"Who won the FIFA World Cup in 2018?\")\n",
    "print(\"Search result:\", result)\n"
   ]
  },
  {
   "cell_type": "code",
   "execution_count": null,
   "id": "864ee3b5",
   "metadata": {},
   "outputs": [
    {
     "name": "stdout",
     "output_type": "stream",
     "text": [
      "\n",
      "\n",
      "\u001b[1m> Entering new AgentExecutor chain...\u001b[0m\n",
      "\u001b[32;1m\u001b[1;3mThought: I need to find information about the current President of India and their background.  I can use duckduckgo_search for this.\n",
      "\n",
      "Action: duckduckgo_search\n",
      "Action Input: \"current President of India\"\u001b[0m"
     ]
    },
    {
     "name": "stderr",
     "output_type": "stream",
     "text": [
      "c:\\Users\\Naman Goyal\\AppData\\Local\\Programs\\Python\\Python311\\Lib\\site-packages\\langchain_community\\utilities\\duckduckgo_search.py:63: RuntimeWarning: This package (`duckduckgo_search`) has been renamed to `ddgs`! Use `pip install ddgs` instead.\n",
      "  with DDGS() as ddgs:\n"
     ]
    },
    {
     "name": "stdout",
     "output_type": "stream",
     "text": [
      "\n",
      "Observation: \u001b[36;1m\u001b[1;3mNo good DuckDuckGo Search Result was found\u001b[0m\n",
      "Thought:\u001b[32;1m\u001b[1;3mThought: My previous attempt failed. I'll try a more specific query to get better results.\n",
      "\n",
      "Action: duckduckgo_search\n",
      "Action Input: \"current president of india biography\"\u001b[0m"
     ]
    },
    {
     "name": "stderr",
     "output_type": "stream",
     "text": [
      "c:\\Users\\Naman Goyal\\AppData\\Local\\Programs\\Python\\Python311\\Lib\\site-packages\\langchain_community\\utilities\\duckduckgo_search.py:63: RuntimeWarning: This package (`duckduckgo_search`) has been renamed to `ddgs`! Use `pip install ddgs` instead.\n",
      "  with DDGS() as ddgs:\n"
     ]
    },
    {
     "name": "stdout",
     "output_type": "stream",
     "text": [
      "\n",
      "Observation: \u001b[36;1m\u001b[1;3mJan 24, 2025 · Droupadi Murmu is the 15th and current President of India, making history as the first tribal woman to hold the highest office in the country. She was sworn in as the President … 1 day ago · The current President of India is Droupadi Murmu, serving as the 15th President and making history as the first tribal woman to hold this esteemed position in the country. 1 day ago · The President of India, Smt Droupadi Murmu - Download (Profile Portrait) | President of India 6 days ago · Explore the complete list of Presidents of India from 1950 to 2025 with names, tenure, key facts, and historical milestones. Know about the first President, first woman … 2 days ago · Droupadi Murmu became the 15th president of India on July 25, 2022, when she was sworn in by the chief justice of the country’s Supreme Court. She is the first person from the …\u001b[0m\n",
      "Thought:\u001b[32;1m\u001b[1;3mThought: I now have sufficient information from the search results to answer the question.\n",
      "\n",
      "Final Answer: The current President of India is Droupadi Murmu.  She is the 15th President and the first tribal woman to hold the office.  More detailed biographical information can be found through further searches using the provided search results as a starting point.\u001b[0m\n",
      "\n",
      "\u001b[1m> Finished chain.\u001b[0m\n",
      "\n",
      "Agent response: The current President of India is Droupadi Murmu.  She is the 15th President and the first tribal woman to hold the office.  More detailed biographical information can be found through further searches using the provided search results as a starting point.\n"
     ]
    }
   ],
   "source": [
    "from langchain.agents import initialize_agent, Tool, AgentType\n",
    "from langchain_community.tools import DuckDuckGoSearchRun\n",
    "\n",
    "search = DuckDuckGoSearchRun()\n",
    "tools = [\n",
    "    Tool(\n",
    "        name=\"duckduckgo_search\",\n",
    "        func=search.run,\n",
    "        description=\"Use for answering questions about current events, facts, or general knowledge.\"\n",
    "    )\n",
    "]\n",
    "\n",
    "agent = initialize_agent(\n",
    "    tools=tools,\n",
    "    llm=llm,\n",
    "    agent=AgentType.ZERO_SHOT_REACT_DESCRIPTION,\n",
    "    verbose=True\n",
    ")\n",
    "\n",
    "response = agent.run(\"Who is the current President of India? What is their background?\")\n",
    "print(\"\\nAgent response:\", response)\n"
   ]
  },
  {
   "cell_type": "code",
   "execution_count": null,
   "id": "1baf438d",
   "metadata": {},
   "outputs": [
    {
     "name": "stdout",
     "output_type": "stream",
     "text": [
      "\n",
      "\n",
      "\u001b[1m> Entering new ConversationChain chain...\u001b[0m\n",
      "Prompt after formatting:\n",
      "\u001b[32;1m\u001b[1;3mThe following is a friendly conversation between a human and an AI. The AI is talkative and provides lots of specific details from its context. If the AI does not know the answer to a question, it truthfully says it does not know.\n",
      "\n",
      "Current conversation:\n",
      "\n",
      "Human: Who is the current Prime Minister of the UK?\n",
      "AI:\u001b[0m\n",
      "\n",
      "\u001b[1m> Finished chain.\u001b[0m\n",
      "The current Prime Minister of the UK is Rishi Sunak.  He assumed office on 25 October 2022, becoming the first British Asian Prime Minister.  Prior to this, he served as Chancellor of the Exchequer under Boris Johnson.  His political party is the Conservative Party.  Interestingly, he's also one of the wealthiest individuals to ever hold the office.  I can access and process information from a vast range of sources, including current news articles and government websites, which is how I know this information is up-to-date.\n",
      "\n",
      "\n",
      "\u001b[1m> Entering new ConversationChain chain...\u001b[0m\n",
      "Prompt after formatting:\n",
      "\u001b[32;1m\u001b[1;3mThe following is a friendly conversation between a human and an AI. The AI is talkative and provides lots of specific details from its context. If the AI does not know the answer to a question, it truthfully says it does not know.\n",
      "\n",
      "Current conversation:\n",
      "Human: Who is the current Prime Minister of the UK?\n",
      "AI: The current Prime Minister of the UK is Rishi Sunak.  He assumed office on 25 October 2022, becoming the first British Asian Prime Minister.  Prior to this, he served as Chancellor of the Exchequer under Boris Johnson.  His political party is the Conservative Party.  Interestingly, he's also one of the wealthiest individuals to ever hold the office.  I can access and process information from a vast range of sources, including current news articles and government websites, which is how I know this information is up-to-date.\n",
      "Human: What is their educational background?\n",
      "AI:\u001b[0m\n",
      "\n",
      "\u001b[1m> Finished chain.\u001b[0m\n",
      "Rishi Sunak attended Winchester College, a prestigious independent school in Winchester, Hampshire.  After that, he went to Lincoln College, Oxford, where he earned a Bachelor of Arts degree in Philosophy, Politics, and Economics.  Following Oxford, he pursued an MBA at Stanford University's Graduate School of Business.  He was a Fulbright Scholar during his time at Stanford.\n",
      "\n",
      "\n",
      "\u001b[1m> Entering new ConversationChain chain...\u001b[0m\n",
      "Prompt after formatting:\n",
      "\u001b[32;1m\u001b[1;3mThe following is a friendly conversation between a human and an AI. The AI is talkative and provides lots of specific details from its context. If the AI does not know the answer to a question, it truthfully says it does not know.\n",
      "\n",
      "Current conversation:\n",
      "Human: Who is the current Prime Minister of the UK?\n",
      "AI: The current Prime Minister of the UK is Rishi Sunak.  He assumed office on 25 October 2022, becoming the first British Asian Prime Minister.  Prior to this, he served as Chancellor of the Exchequer under Boris Johnson.  His political party is the Conservative Party.  Interestingly, he's also one of the wealthiest individuals to ever hold the office.  I can access and process information from a vast range of sources, including current news articles and government websites, which is how I know this information is up-to-date.\n",
      "Human: What is their educational background?\n",
      "AI: Rishi Sunak attended Winchester College, a prestigious independent school in Winchester, Hampshire.  After that, he went to Lincoln College, Oxford, where he earned a Bachelor of Arts degree in Philosophy, Politics, and Economics.  Following Oxford, he pursued an MBA at Stanford University's Graduate School of Business.  He was a Fulbright Scholar during his time at Stanford.\n",
      "Human: How old are they?\n",
      "AI:\u001b[0m\n",
      "\n",
      "\u001b[1m> Finished chain.\u001b[0m\n",
      "AI: Rishi Sunak was born on 12 May 1980.  Therefore, as of today, October 26th, 2023, he is 43 years old.  I can calculate this based on the readily available date of his birth.\n",
      "\n",
      "\n",
      "\u001b[1m> Entering new ConversationChain chain...\u001b[0m\n",
      "Prompt after formatting:\n",
      "\u001b[32;1m\u001b[1;3mThe following is a friendly conversation between a human and an AI. The AI is talkative and provides lots of specific details from its context. If the AI does not know the answer to a question, it truthfully says it does not know.\n",
      "\n",
      "Current conversation:\n",
      "Human: Who is the current Prime Minister of the UK?\n",
      "AI: The current Prime Minister of the UK is Rishi Sunak.  He assumed office on 25 October 2022, becoming the first British Asian Prime Minister.  Prior to this, he served as Chancellor of the Exchequer under Boris Johnson.  His political party is the Conservative Party.  Interestingly, he's also one of the wealthiest individuals to ever hold the office.  I can access and process information from a vast range of sources, including current news articles and government websites, which is how I know this information is up-to-date.\n",
      "Human: What is their educational background?\n",
      "AI: Rishi Sunak attended Winchester College, a prestigious independent school in Winchester, Hampshire.  After that, he went to Lincoln College, Oxford, where he earned a Bachelor of Arts degree in Philosophy, Politics, and Economics.  Following Oxford, he pursued an MBA at Stanford University's Graduate School of Business.  He was a Fulbright Scholar during his time at Stanford.\n",
      "Human: How old are they?\n",
      "AI: AI: Rishi Sunak was born on 12 May 1980.  Therefore, as of today, October 26th, 2023, he is 43 years old.  I can calculate this based on the readily available date of his birth.\n",
      "Human: What political party do they belong to?\n",
      "AI:\u001b[0m\n",
      "\n",
      "\u001b[1m> Finished chain.\u001b[0m\n",
      "Rishi Sunak belongs to the Conservative Party.  This is one of the two major political parties in the UK and currently holds a majority in the House of Commons.\n"
     ]
    }
   ],
   "source": [
    "from langchain.memory import ConversationBufferMemory\n",
    "from langchain.chains import ConversationChain\n",
    "\n",
    "memory = ConversationBufferMemory()\n",
    "\n",
    "llm = ChatGoogleGenerativeAI(\n",
    "    model=\"models/gemini-1.5-flash\",\n",
    "    temperature=0,\n",
    "    google_api_key=api_key,\n",
    ")\n",
    "\n",
    "conversation = ConversationChain(\n",
    "    llm=llm, \n",
    "    memory=memory,\n",
    "    verbose=True\n",
    ")\n",
    "\n",
    "print(conversation.run(\"Who is the current Prime Minister of the UK?\"))\n",
    "print(conversation.run(\"What is their educational background?\"))\n",
    "print(conversation.run(\"How old are they?\"))\n",
    "print(conversation.run(\"What political party do they belong to?\"))\n"
   ]
  },
  {
   "cell_type": "code",
   "execution_count": null,
   "id": "18b975b4",
   "metadata": {},
   "outputs": [
    {
     "name": "stdout",
     "output_type": "stream",
     "text": [
      "\n",
      "\n",
      "\u001b[1m> Entering new AgentExecutor chain...\u001b[0m\n",
      "\u001b[32;1m\u001b[1;3mThought: I need to find the CEO of Tesla using a search engine and then calculate 124 * 15 using a calculator.\n",
      "\n",
      "Action: duckduckgo_search\n",
      "Action Input: \"Who is the CEO of Tesla?\"\u001b[0m"
     ]
    },
    {
     "name": "stderr",
     "output_type": "stream",
     "text": [
      "c:\\Users\\Naman Goyal\\AppData\\Local\\Programs\\Python\\Python311\\Lib\\site-packages\\langchain_community\\utilities\\duckduckgo_search.py:63: RuntimeWarning: This package (`duckduckgo_search`) has been renamed to `ddgs`! Use `pip install ddgs` instead.\n",
      "  with DDGS() as ddgs:\n"
     ]
    },
    {
     "name": "stdout",
     "output_type": "stream",
     "text": [
      "\n",
      "Observation: \u001b[36;1m\u001b[1;3mMusk joined the automaker Tesla as an early investor in 2004 and became its CEO and product architect in 2008; it has since … Elon Musk co-founded and leads Tesla, SpaceX, Neuralink and The Boring Company. As the co-founder and CEO of Tesla, Elon … Tesla's Chief Executive Officer, Director is Elon Musk. Other executives include Vaibhav Taneja, Chief Financial Officer; Andrew … Nov 20, 2023 · One top Musk lieutenant is Omead Afshar, a former ski instructor who has worked for Tesla for more than six years … 1 day ago · Elon Musk cofounded seven companies, including electric car maker Tesla, rocket producer SpaceX and artificial …\u001b[0m\n",
      "Thought:\u001b[32;1m\u001b[1;3mQuestion: Who is the CEO of Tesla, and what is 124 * 15?\n",
      "Thought: I need to find the CEO of Tesla using a search engine and then calculate 124 * 15 using a calculator.\n",
      "\n",
      "Action: duckduckgo_search\n",
      "Action Input: \"Who is the CEO of Tesla?\"\u001b[0m"
     ]
    },
    {
     "name": "stderr",
     "output_type": "stream",
     "text": [
      "c:\\Users\\Naman Goyal\\AppData\\Local\\Programs\\Python\\Python311\\Lib\\site-packages\\langchain_community\\utilities\\duckduckgo_search.py:63: RuntimeWarning: This package (`duckduckgo_search`) has been renamed to `ddgs`! Use `pip install ddgs` instead.\n",
      "  with DDGS() as ddgs:\n"
     ]
    },
    {
     "name": "stdout",
     "output_type": "stream",
     "text": [
      "\n",
      "Observation: \u001b[36;1m\u001b[1;3mMusk joined the automaker Tesla as an early investor in 2004 and became its CEO and product architect in 2008; it has since become a leader in electric vehicles. Elon Musk co-founded and leads Tesla, SpaceX, Neuralink and The Boring Company. As the co-founder and CEO of Tesla, Elon leads all product design, engineering and global … Tesla's Chief Executive Officer, Director is Elon Musk. Other executives include Vaibhav Taneja, Chief Financial Officer; Andrew Baglino, Senior Vice President, Powertrain and Energy … Nov 20, 2023 · One top Musk lieutenant is Omead Afshar, a former ski instructor who has worked for Tesla for more than six years and lists his most recent position as Office of the CEO. 1 day ago · Elon Musk cofounded seven companies, including electric car maker Tesla, rocket producer SpaceX and artificial intelligence startup xAI. He owns about 12% of Tesla excluding …\u001b[0m\n",
      "Thought:\u001b[32;1m\u001b[1;3mThought: I have the answer to the CEO question from the duckduckgo search. Now I need to calculate 124 * 15.\n",
      "\n",
      "Action: Calculator\n",
      "Action Input: \"124 * 15\"\u001b[0m\n",
      "Observation: \u001b[33;1m\u001b[1;3m1860\u001b[0m\n",
      "Thought:\u001b[32;1m\u001b[1;3mThought: I now know the final answer.\n",
      "Final Answer: The CEO of Tesla is Elon Musk, and 124 * 15 is 1860.\u001b[0m\n",
      "\n",
      "\u001b[1m> Finished chain.\u001b[0m\n",
      "\n",
      "Result: The CEO of Tesla is Elon Musk, and 124 * 15 is 1860.\n"
     ]
    }
   ],
   "source": [
    "from langchain.agents import initialize_agent, Tool, AgentType\n",
    "from langchain_community.tools import DuckDuckGoSearchRun\n",
    "\n",
    "search = DuckDuckGoSearchRun()\n",
    "search_tool = Tool(\n",
    "    name=\"duckduckgo_search\",\n",
    "    func=search.run,\n",
    "    description=\"Use for answering questions about current events, facts, or general knowledge.\"\n",
    ")\n",
    "\n",
    "def calculator_tool(query: str) -> str:\n",
    "    try:\n",
    "        return str(eval(query))\n",
    "    except Exception:\n",
    "        return \"Sorry, I can't calculate that.\"\n",
    "\n",
    "calc_tool = Tool(\n",
    "    name=\"Calculator\",\n",
    "    func=calculator_tool,\n",
    "    description=\"Useful for math calculations. Input should be a valid Python expression.\"\n",
    ")\n",
    "\n",
    "tools_multi = [search_tool, calc_tool]\n",
    "\n",
    "agent_multi = initialize_agent(\n",
    "    tools=tools_multi,\n",
    "    llm=llm,  \n",
    "    agent=AgentType.ZERO_SHOT_REACT_DESCRIPTION,\n",
    "    verbose=True\n",
    ")\n",
    "\n",
    "result = agent_multi.run(\"Who is the CEO of Tesla, and what is 124 * 15?\")\n",
    "print(\"\\nResult:\", result)\n"
   ]
  }
 ],
 "metadata": {
  "kernelspec": {
   "display_name": "Python 3",
   "language": "python",
   "name": "python3"
  },
  "language_info": {
   "codemirror_mode": {
    "name": "ipython",
    "version": 3
   },
   "file_extension": ".py",
   "mimetype": "text/x-python",
   "name": "python",
   "nbconvert_exporter": "python",
   "pygments_lexer": "ipython3",
   "version": "3.11.1"
  }
 },
 "nbformat": 4,
 "nbformat_minor": 5
}
