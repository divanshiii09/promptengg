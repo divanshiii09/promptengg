{
 "cells": [
  {
   "cell_type": "code",
   "execution_count": 2,
   "id": "f50af5b3",
   "metadata": {},
   "outputs": [],
   "source": [
    "from langchain.document_loaders import PyPDFLoader\n",
    "from langchain.text_splitter import RecursiveCharacterTextSplitter\n",
    "\n",
    "pdf_paths = [\"sample.pdf\", \"Day2.pdf\"]\n",
    "all_docs = []\n",
    "\n",
    "for pdf in pdf_paths:\n",
    "    loader = PyPDFLoader(pdf)\n",
    "    pages = loader.load()\n",
    "    all_docs.extend(pages)\n",
    "\n",
    "splitter = RecursiveCharacterTextSplitter(chunk_size=100, chunk_overlap=50)\n",
    "docs = splitter.split_documents(all_docs)\n"
   ]
  },
  {
   "cell_type": "code",
   "execution_count": 3,
   "id": "1a3b4083",
   "metadata": {},
   "outputs": [
    {
     "name": "stderr",
     "output_type": "stream",
     "text": [
      "C:\\Users\\Naman Goyal\\AppData\\Local\\Temp\\ipykernel_10584\\2508043853.py:4: LangChainDeprecationWarning: The class `HuggingFaceEmbeddings` was deprecated in LangChain 0.2.2 and will be removed in 1.0. An updated version of the class exists in the :class:`~langchain-huggingface package and should be used instead. To use it run `pip install -U :class:`~langchain-huggingface` and import as `from :class:`~langchain_huggingface import HuggingFaceEmbeddings``.\n",
      "  embedding = HuggingFaceEmbeddings(model_name=\"sentence-transformers/all-MiniLM-L6-v2\")\n",
      "C:\\Users\\Naman Goyal\\AppData\\Local\\Temp\\ipykernel_10584\\2508043853.py:11: LangChainDeprecationWarning: Since Chroma 0.4.x the manual persistence method is no longer supported as docs are automatically persisted.\n",
      "  vectordb.persist()\n"
     ]
    }
   ],
   "source": [
    "from langchain.embeddings import HuggingFaceEmbeddings\n",
    "from langchain.vectorstores import Chroma\n",
    "\n",
    "embedding = HuggingFaceEmbeddings(model_name=\"sentence-transformers/all-MiniLM-L6-v2\")\n",
    "\n",
    "vectordb = Chroma.from_documents(\n",
    "    documents=docs,\n",
    "    embedding=embedding,\n",
    "    persist_directory=\"multi_pdf_chroma\"\n",
    ")\n",
    "vectordb.persist()\n"
   ]
  },
  {
   "cell_type": "code",
   "execution_count": 4,
   "id": "b44d1719",
   "metadata": {},
   "outputs": [
    {
     "name": "stderr",
     "output_type": "stream",
     "text": [
      "C:\\Users\\Naman Goyal\\AppData\\Local\\Temp\\ipykernel_10584\\1544051864.py:4: LangChainDeprecationWarning: The method `BaseRetriever.get_relevant_documents` was deprecated in langchain-core 0.1.46 and will be removed in 1.0. Use :meth:`~invoke` instead.\n",
      "  relevant_docs = retriever.get_relevant_documents(query)\n"
     ]
    }
   ],
   "source": [
    "retriever = vectordb.as_retriever(search_type=\"similarity\", search_kwargs={\"k\": 4})\n",
    "\n",
    "query = \"Both pdf is about which student, name the student, urn and crn and what training the student is doing and what day of training has been summarised in both pdf by the student\"\n",
    "relevant_docs = retriever.get_relevant_documents(query)\n",
    "\n",
    "context = \"\\n\\n\".join([doc.page_content for doc in relevant_docs])\n"
   ]
  },
  {
   "cell_type": "code",
   "execution_count": null,
   "id": "3b9b86f5",
   "metadata": {},
   "outputs": [
    {
     "name": "stdout",
     "output_type": "stream",
     "text": [
      "The provided text does not contain student names, URNs, or specific training details.  It only shows the CRN (2315056) and indicates that it's Day 2 of a training summary.  The repeated \"Model Company Specialty Type of Content Version\" suggests a template for recording training data, but the actual data is missing.  Therefore, I cannot answer your query about the student's identity or the specifics of their training.\n",
      "\n"
     ]
    }
   ],
   "source": [
    "import google.generativeai as genai\n",
    "genai.configure(api_key=\"api_key\")\n",
    "\n",
    "model = genai.GenerativeModel(\"models/gemini-1.5-flash\")\n",
    "\n",
    "prompt = f\"Context:\\n{context}\\n\\nQuery: {query}\"\n",
    "\n",
    "\n",
    "response = model.generate_content(prompt)\n",
    "print(response.text)\n"
   ]
  }
 ],
 "metadata": {
  "kernelspec": {
   "display_name": "Python 3",
   "language": "python",
   "name": "python3"
  },
  "language_info": {
   "codemirror_mode": {
    "name": "ipython",
    "version": 3
   },
   "file_extension": ".py",
   "mimetype": "text/x-python",
   "name": "python",
   "nbconvert_exporter": "python",
   "pygments_lexer": "ipython3",
   "version": "3.11.1"
  }
 },
 "nbformat": 4,
 "nbformat_minor": 5
}
