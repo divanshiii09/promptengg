{
 "cells": [
  {
   "cell_type": "code",
   "execution_count": null,
   "id": "46311e1e",
   "metadata": {},
   "outputs": [],
   "source": [
    "import tkinter as tk\n",
    "import sounddevice as sd\n",
    "from scipy.io.wavfile import write\n",
    "import threading\n",
    "import datetime\n",
    "import numpy as np\n",
    "import whisper\n",
    "import os\n",
    "import tkinter.messagebox as messagebox\n",
    "from tkinter import filedialog\n"
   ]
  },
  {
   "cell_type": "code",
   "execution_count": null,
   "id": "a47ac564",
   "metadata": {},
   "outputs": [],
   "source": [
    "fs = 44100  \n",
    "recording = []\n",
    "is_recording = False\n"
   ]
  },
  {
   "cell_type": "code",
   "execution_count": null,
   "id": "d950eb4d",
   "metadata": {},
   "outputs": [],
   "source": [
    "def start_recording():\n",
    "    global recording, is_recording\n",
    "    is_recording = True\n",
    "    recording = []\n",
    "\n",
    "    def callback(indata, frames, time, status):\n",
    "        if is_recording:\n",
    "            recording.append(indata.copy())\n",
    "\n",
    "    stream = sd.InputStream(samplerate=fs, channels=1, callback=callback)\n",
    "    stream.start()\n",
    "    start_button.config(state=\"disabled\")\n",
    "    stop_button.config(state=\"normal\")\n",
    "    output_label.config(text=\"🎤 Recording...\")\n",
    "\n",
    "    def keep_stream_open():\n",
    "        while is_recording:\n",
    "            sd.sleep(100)\n",
    "        stream.stop()\n",
    "        stream.close()\n",
    "\n",
    "    threading.Thread(target=keep_stream_open).start()\n"
   ]
  },
  {
   "cell_type": "code",
   "execution_count": null,
   "id": "ba737e30",
   "metadata": {},
   "outputs": [],
   "source": [
    "\n",
    "def stop_recording():\n",
    "    global is_recording\n",
    "    is_recording = False\n",
    "    start_button.config(state=\"normal\")\n",
    "    stop_button.config(state=\"disabled\")\n",
    "    output_label.config(text=\"🛑 Recording stopped...\\n🔍 Transcribing...\")\n",
    "\n",
    "    audio = np.concatenate(recording, axis=0)\n",
    "\n",
    "    temp_filename = \"temp_recording.wav\"\n",
    "    write(temp_filename, fs, audio)\n",
    "\n",
    "    model = whisper.load_model(\"base\")\n",
    "    result = model.transcribe(temp_filename)\n",
    "    transcription = result[\"text\"]\n",
    "\n",
    "    output_label.config(text=f\"📝 Transcription:\\n{transcription}\")\n",
    "\n",
    "    save_file = messagebox.askyesno(\"Save Recording\", \"Do you want to save the audio recording as a .wav file?\")\n",
    "    \n",
    "    if save_file:\n",
    "        default_name = f\"recording_{datetime.datetime.now().strftime('%Y%m%d_%H%M%S')}.wav\"\n",
    "        file_path = filedialog.asksaveasfilename(defaultextension=\".wav\", filetypes=[(\"WAV files\", \"*.wav\")], initialfile=default_name)\n",
    "\n",
    "        if file_path:\n",
    "            write(file_path, fs, audio)\n",
    "            output_label.config(text=output_label.cget(\"text\") + f\"\\n✅ Audio saved as: {file_path}\")\n",
    "        else:\n",
    "            output_label.config(text=output_label.cget(\"text\") + \"\\n⚠️ Save cancelled.\")\n",
    "    else:\n",
    "        output_label.config(text=output_label.cget(\"text\") + \"\\n⚠️ Audio was not saved.\")\n"
   ]
  },
  {
   "cell_type": "code",
   "execution_count": null,
   "id": "695c0576",
   "metadata": {},
   "outputs": [],
   "source": [
    "root = tk.Tk()\n",
    "root.title(\"🎙 Voice-to-Text Recorder\")\n",
    "root.geometry(\"400x300\")\n",
    "\n",
    "start_button = tk.Button(root, text=\"Start Recording\", command=start_recording, bg=\"green\", fg=\"white\", font=('Arial', 12))\n",
    "start_button.pack(pady=10)\n",
    "\n",
    "stop_button = tk.Button(root, text=\"Stop Recording\", command=stop_recording, bg=\"red\", fg=\"white\", font=('Arial', 12))\n",
    "stop_button.pack(pady=10)\n",
    "stop_button.config(state=\"disabled\")\n",
    "\n",
    "output_label = tk.Label(root, text=\"\", wraplength=380, justify=\"left\", font=('Arial', 10))\n",
    "output_label.pack(pady=20)\n",
    "\n",
    "root.mainloop()"
   ]
  }
 ],
 "metadata": {
  "kernelspec": {
   "display_name": "Python 3",
   "language": "python",
   "name": "python3"
  },
  "language_info": {
   "codemirror_mode": {
    "name": "ipython",
    "version": 3
   },
   "file_extension": ".py",
   "mimetype": "text/x-python",
   "name": "python",
   "nbconvert_exporter": "python",
   "pygments_lexer": "ipython3",
   "version": "3.11.1"
  }
 },
 "nbformat": 4,
 "nbformat_minor": 5
}
