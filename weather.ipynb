{
 "cells": [
  {
   "cell_type": "code",
   "execution_count": 45,
   "id": "d05d91d5",
   "metadata": {},
   "outputs": [],
   "source": [
    "import os\n",
    "import requests\n",
    "from dotenv import load_dotenv\n",
    "from langchain_google_genai import ChatGoogleGenerativeAI\n",
    "from langchain.agents import Tool, initialize_agent\n",
    "from langchain.agents.agent_types import AgentType\n",
    "from unidecode import unidecode\n"
   ]
  },
  {
   "cell_type": "code",
   "execution_count": 46,
   "id": "abc36605",
   "metadata": {},
   "outputs": [],
   "source": [
    "load_dotenv()\n",
    "GOOGLE_API_KEY = os.getenv(\"GOOGLE_API_KEY\")\n",
    "OPENWEATHER_API_KEY = os.getenv(\"OPENWEATHER_API_KEY\")"
   ]
  },
  {
   "cell_type": "code",
   "execution_count": 47,
   "id": "7151f19e",
   "metadata": {},
   "outputs": [],
   "source": [
    "def get_location_by_ip():\n",
    "    try:\n",
    "        response = requests.get(\"http://ip-api.com/json/\")\n",
    "        data = response.json()\n",
    "        lat = data.get(\"lat\")\n",
    "        lon = data.get(\"lon\")\n",
    "        city = unidecode(data.get(\"city\", \"Unknown\"))\n",
    "        return lat, lon, city\n",
    "    except:\n",
    "        return None, None, None\n"
   ]
  },
  {
   "cell_type": "code",
   "execution_count": 48,
   "id": "c2fb6377",
   "metadata": {},
   "outputs": [],
   "source": [
    "def get_weather(_: str) -> str:\n",
    "    lat, lon, city = get_location_by_ip()\n",
    "    if not lat or not lon:\n",
    "        return \"❌ Could not detect your location.\"\n",
    "\n",
    "    url = f\"https://api.openweathermap.org/data/2.5/weather?lat={lat}&lon={lon}&appid={OPENWEATHER_API_KEY}&units=metric\"\n",
    "    res = requests.get(url)\n",
    "    data = res.json()\n",
    "\n",
    "    if \"main\" in data:\n",
    "        weather = data[\"weather\"][0][\"description\"]\n",
    "        temp = data[\"main\"][\"temp\"]\n",
    "        humidity = data[\"main\"][\"humidity\"]\n",
    "        return f\"📍 {city}\\n🌤 {weather}\\n🌡 {temp}°C\\n💧 {humidity}%\"\n",
    "    else:\n",
    "        return \"⚠ Weather data not found.\"\n"
   ]
  },
  {
   "cell_type": "code",
   "execution_count": 49,
   "id": "622267b5",
   "metadata": {},
   "outputs": [],
   "source": [
    "weather_tool = Tool(\n",
    "    name=\"get_weather\",\n",
    "    func=get_weather,\n",
    "    description=\"Use this to get the current weather based on IP location\"\n",
    ")"
   ]
  },
  {
   "cell_type": "code",
   "execution_count": 50,
   "id": "c4e1b87f",
   "metadata": {},
   "outputs": [],
   "source": [
    "llm = ChatGoogleGenerativeAI(\n",
    "    model=\"gemini-1.5-flash\",\n",
    "    temperature=0,\n",
    "    google_api_key=GOOGLE_API_KEY\n",
    ")"
   ]
  },
  {
   "cell_type": "code",
   "execution_count": 51,
   "id": "d701dba1",
   "metadata": {},
   "outputs": [],
   "source": [
    "agent = initialize_agent(\n",
    "    tools=[weather_tool],\n",
    "    llm=llm,\n",
    "    agent=AgentType.ZERO_SHOT_REACT_DESCRIPTION,\n",
    "    verbose=True\n",
    ")"
   ]
  },
  {
   "cell_type": "code",
   "execution_count": 52,
   "id": "2050dcca",
   "metadata": {},
   "outputs": [
    {
     "name": "stdout",
     "output_type": "stream",
     "text": [
      "\n",
      "\n",
      "\u001b[1m> Entering new AgentExecutor chain...\u001b[0m\n",
      "\u001b[32;1m\u001b[1;3mThought: I need to get the current weather based on the user's IP location.\n",
      "Action: get_weather\n",
      "Action Input: \"\"\u001b[0m\n",
      "Observation: \u001b[36;1m\u001b[1;3m📍 Ludhiana\n",
      "🌤 clear sky\n",
      "🌡 32.26°C\n",
      "💧 79%\u001b[0m\n",
      "Thought:\u001b[32;1m\u001b[1;3mThought: I now know the final answer\n",
      "Final Answer: The weather in Ludhiana is clear sky with a temperature of 32.26°C and 79% humidity.\u001b[0m\n",
      "\n",
      "\u001b[1m> Finished chain.\u001b[0m\n",
      "\n",
      "🌍 Final Weather Report:\n",
      " The weather in Ludhiana is clear sky with a temperature of 32.26°C and 79% humidity.\n"
     ]
    }
   ],
   "source": [
    "query = \"What's the weather like here?\"\n",
    "response = agent.run(query)\n",
    "print(\"\\n🌍 Final Weather Report:\\n\", response)"
   ]
  }
 ],
 "metadata": {
  "kernelspec": {
   "display_name": "Python 3",
   "language": "python",
   "name": "python3"
  },
  "language_info": {
   "codemirror_mode": {
    "name": "ipython",
    "version": 3
   },
   "file_extension": ".py",
   "mimetype": "text/x-python",
   "name": "python",
   "nbconvert_exporter": "python",
   "pygments_lexer": "ipython3",
   "version": "3.11.1"
  }
 },
 "nbformat": 4,
 "nbformat_minor": 5
}
