{
 "cells": [
  {
   "cell_type": "code",
   "execution_count": null,
   "id": "8b28b99c",
   "metadata": {},
   "outputs": [],
   "source": [
    "import requests\n",
    "from bs4 import BeautifulSoup\n",
    "from urllib.parse import urljoin, urlparse"
   ]
  },
  {
   "cell_type": "code",
   "execution_count": null,
   "id": "0c211367",
   "metadata": {},
   "outputs": [],
   "source": [
    "def get_links(url):\n",
    "    try:\n",
    "        response = requests.get(url)\n",
    "        soup = BeautifulSoup(response.content, \"html.parser\")\n",
    "        base_domain = urlparse(url).netloc\n",
    "\n",
    "        internal_links = set()\n",
    "        external_links = set()\n",
    "\n",
    "        for tag in soup.find_all(\"a\", href=True):\n",
    "            href = tag.get(\"href\")\n",
    "            full_url = urljoin(url, href)  \n",
    "            parsed_url = urlparse(full_url)\n",
    "\n",
    "            if parsed_url.scheme.startswith(\"http\"):\n",
    "                if parsed_url.netloc == base_domain:\n",
    "                    internal_links.add(full_url)\n",
    "                else:\n",
    "                    external_links.add(full_url)\n",
    "\n",
    "        return internal_links, external_links\n",
    "    \n",
    "    except Exception as e:\n",
    "        print(f\"Error: {e}\")\n",
    "        return set(), set()"
   ]
  },
  {
   "cell_type": "code",
   "execution_count": null,
   "id": "5d2049f6",
   "metadata": {},
   "outputs": [],
   "source": [
    "url = input(\"Enter the URL: \")\n",
    "internal, external = get_links(url)\n",
    "\n",
    "print(\"🔗 Internal Links (Top 10):\")\n",
    "for link in list(sorted(internal))[:10]:\n",
    "    print(link)\n",
    "\n",
    "print(\"\\n🌍 External Links (Top 10):\")\n",
    "for link in list(sorted(external))[:10]:\n",
    "    print(link)"
   ]
  }
 ],
 "metadata": {
  "kernelspec": {
   "display_name": "Python 3",
   "language": "python",
   "name": "python3"
  },
  "language_info": {
   "codemirror_mode": {
    "name": "ipython",
    "version": 3
   },
   "file_extension": ".py",
   "mimetype": "text/x-python",
   "name": "python",
   "nbconvert_exporter": "python",
   "pygments_lexer": "ipython3",
   "version": "3.11.1"
  }
 },
 "nbformat": 4,
 "nbformat_minor": 5
}
