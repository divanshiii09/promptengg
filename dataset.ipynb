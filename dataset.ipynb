{
 "cells": [
  {
   "cell_type": "code",
   "execution_count": 1,
   "id": "609a20be",
   "metadata": {},
   "outputs": [],
   "source": [
    "import os\n",
    "import pandas as pd\n",
    "import json\n",
    "import re\n",
    "import google.generativeai as genai\n",
    "from dotenv import load_dotenv"
   ]
  },
  {
   "cell_type": "code",
   "execution_count": null,
   "id": "d26694f0",
   "metadata": {},
   "outputs": [],
   "source": [
    "load_dotenv()\n",
    "genai.configure(api_key=os.getenv(\"GOOGLE_API_KEY\"))\n",
    "\n",
    "model = genai.GenerativeModel(\"models/gemini-1.5-flash\")\n"
   ]
  },
  {
   "cell_type": "code",
   "execution_count": null,
   "id": "01266f7e",
   "metadata": {},
   "outputs": [
    {
     "name": "stdout",
     "output_type": "stream",
     "text": [
      "\n",
      "📦 Dataset:\n",
      "                                               prompt  \\\n",
      "0        Write a Python function to add two numbers.   \n",
      "1  Write a Python function to check if a number i...   \n",
      "2         Write a Python function to find factorial.   \n",
      "\n",
      "                                          completion  \n",
      "0                   def add(a, b):\\n    return a + b  \n",
      "1             def is_even(n):\\n    return n % 2 == 0  \n",
      "2  def factorial(n):\\n    return 1 if n == 0 else...  \n"
     ]
    }
   ],
   "source": [
    "data = [\n",
    "    {\n",
    "        \"prompt\": \"Write a Python function to add two numbers.\",\n",
    "        \"completion\": \"def add(a, b):\\n    return a + b\"\n",
    "    },\n",
    "    {\n",
    "        \"prompt\": \"Write a Python function to check if a number is even.\",\n",
    "        \"completion\": \"def is_even(n):\\n    return n % 2 == 0\"\n",
    "    },\n",
    "    {\n",
    "        \"prompt\": \"Write a Python function to find factorial.\",\n",
    "        \"completion\": \"def factorial(n):\\n    return 1 if n == 0 else n * factorial(n-1)\"\n",
    "    },\n",
    "]\n",
    "\n",
    "df = pd.DataFrame(data)\n",
    "df.to_csv(\"code_generation_dataset.csv\", index=False)\n",
    "print(\"\\n📦 Dataset:\\n\", df.head())"
   ]
  },
  {
   "cell_type": "code",
   "execution_count": null,
   "id": "8acbca47",
   "metadata": {},
   "outputs": [],
   "source": [
    "\n",
    "def clean_text(prompt, completion):\n",
    "    prompt = prompt.strip().capitalize()\n",
    "    completion = completion.strip()\n",
    "\n",
    "    completion = completion.replace(\"    \", \"\\t\")\n",
    "\n",
    "    wrapped_completion = f\"```python\\n{completion}\\n```\"\n",
    "\n",
    "    return prompt, wrapped_completion\n",
    "\n",
    "def save_jsonl(df, filename):\n",
    "    with open(filename, \"w\") as f:\n",
    "        for _, row in df.iterrows():\n",
    "            prompt, completion = clean_text(row[\"prompt\"], row[\"completion\"])\n",
    "            entry = {\n",
    "                \"messages\": [\n",
    "                    {\"role\": \"user\", \"content\": prompt},\n",
    "                    {\"role\": \"assistant\", \"content\": completion}\n",
    "                ]\n",
    "            }\n",
    "            f.write(json.dumps(entry) + \"\\n\")\n",
    "\n",
    "df[\"prompt\"] = df[\"prompt\"].str.strip()\n",
    "df[\"completion\"] = df[\"completion\"].str.strip()\n",
    "\n",
    "train_df = df.sample(frac=0.8, random_state=42)\n",
    "test_df = df.drop(train_df.index)\n",
    "\n",
    "save_jsonl(train_df, \"train.jsonl\")\n",
    "save_jsonl(test_df, \"test.jsonl\")\n"
   ]
  },
  {
   "cell_type": "code",
   "execution_count": null,
   "id": "d1a5094a",
   "metadata": {},
   "outputs": [
    {
     "name": "stdout",
     "output_type": "stream",
     "text": [
      "\n",
      "📂 Contents of train.jsonl:\n",
      "{\"messages\": [{\"role\": \"user\", \"content\": \"Write a python function to add two numbers.\"}, {\"role\": \"assistant\", \"content\": \"```python\\ndef add(a, b):\\n\\treturn a + b\\n```\"}]}\n",
      "{\"messages\": [{\"role\": \"user\", \"content\": \"Write a python function to check if a number is even.\"}, {\"role\": \"assistant\", \"content\": \"```python\\ndef is_even(n):\\n\\treturn n % 2 == 0\\n```\"}]}\n",
      "\n",
      "📂 Contents of test.jsonl:\n",
      "{\"messages\": [{\"role\": \"user\", \"content\": \"Write a python function to find factorial.\"}, {\"role\": \"assistant\", \"content\": \"```python\\ndef factorial(n):\\n\\treturn 1 if n == 0 else n * factorial(n-1)\\n```\"}]}\n"
     ]
    }
   ],
   "source": [
    "def print_jsonl(filename):\n",
    "    print(f\"\\n📂 Contents of {filename}:\")\n",
    "    with open(filename, \"r\") as f:\n",
    "        for line in f:\n",
    "            print(line.strip())\n",
    "\n",
    "print_jsonl(\"train.jsonl\")\n",
    "print_jsonl(\"test.jsonl\")"
   ]
  }
 ],
 "metadata": {
  "kernelspec": {
   "display_name": "Python 3",
   "language": "python",
   "name": "python3"
  },
  "language_info": {
   "codemirror_mode": {
    "name": "ipython",
    "version": 3
   },
   "file_extension": ".py",
   "mimetype": "text/x-python",
   "name": "python",
   "nbconvert_exporter": "python",
   "pygments_lexer": "ipython3",
   "version": "3.11.1"
  }
 },
 "nbformat": 4,
 "nbformat_minor": 5
}
