{
 "cells": [
  {
   "cell_type": "code",
   "execution_count": 1,
   "id": "909f18d0",
   "metadata": {},
   "outputs": [],
   "source": [
    "import sounddevice as sd\n",
    "from scipy.io.wavfile import write\n",
    "import whisper\n",
    "import google.generativeai as genai\n",
    "from gtts import gTTS\n",
    "from IPython.display import Audio, display\n",
    "import os\n",
    "import random\n",
    "import string\n",
    "from datetime import datetime\n",
    "from dotenv import load_dotenv"
   ]
  },
  {
   "cell_type": "code",
   "execution_count": 2,
   "id": "41ca134c",
   "metadata": {},
   "outputs": [],
   "source": [
    "load_dotenv()\n",
    "api_key = os.getenv(\"GENAI_API_KEY\")\n",
    "genai.configure(api_key=api_key)\n",
    "model = genai.GenerativeModel(\"models/gemini-1.5-flash\")\n"
   ]
  },
  {
   "cell_type": "code",
   "execution_count": null,
   "id": "fcc5daaf",
   "metadata": {},
   "outputs": [],
   "source": [
    "def record_audio(duration=10, fs=44100, filename=\"input.wav\"):\n",
    "    print(\"🎙️ Speak now...\")\n",
    "    recording = sd.rec(int(duration * fs), samplerate=fs, channels=1)\n",
    "    sd.wait()\n",
    "    write(filename, fs, recording)\n",
    "    print(\"✅ Recording finished.\")"
   ]
  },
  {
   "cell_type": "code",
   "execution_count": null,
   "id": "5510c36d",
   "metadata": {},
   "outputs": [],
   "source": [
    "def unique_filename():\n",
    "    time_stamp = datetime.now().strftime(\"%Y%m%d_%H%M%S\")\n",
    "    rand_str = ''.join(random.choices(string.ascii_letters, k=5))\n",
    "    return f\"response_{time_stamp}_{rand_str}.mp3\"\n"
   ]
  },
  {
   "cell_type": "code",
   "execution_count": null,
   "id": "4616c35a",
   "metadata": {},
   "outputs": [],
   "source": [
    "def transcribe_audio(filename):\n",
    "    model = whisper.load_model(\"base\")\n",
    "    result = model.transcribe(filename)\n",
    "    return result[\"text\"]"
   ]
  },
  {
   "cell_type": "code",
   "execution_count": null,
   "id": "9b94d3bf",
   "metadata": {},
   "outputs": [],
   "source": [
    "def generate_response(prompt):\n",
    "    response = model.generate_content(prompt)\n",
    "    return response.text\n"
   ]
  },
  {
   "cell_type": "code",
   "execution_count": null,
   "id": "a7a8b942",
   "metadata": {},
   "outputs": [],
   "source": [
    "def speak(text):\n",
    "    filename = unique_filename()\n",
    "    tts = gTTS(text=text, lang='en', tld='ie')  # Change tld for accent\n",
    "    tts.save(filename)\n",
    "    display(Audio(filename))\n",
    "    return filename"
   ]
  },
  {
   "cell_type": "code",
   "execution_count": null,
   "id": "5c19e109",
   "metadata": {},
   "outputs": [],
   "source": [
    "record_audio()\n",
    "transcribed = transcribe_audio(\"input.wav\")\n",
    "print(f\"📝 You said: {transcribed}\")\n",
    "\n",
    "response = generate_response(transcribed)\n",
    "print(f\"💬 Gemini: {response}\")\n",
    "\n",
    "speak(response)"
   ]
  }
 ],
 "metadata": {
  "kernelspec": {
   "display_name": "Python 3",
   "language": "python",
   "name": "python3"
  },
  "language_info": {
   "codemirror_mode": {
    "name": "ipython",
    "version": 3
   },
   "file_extension": ".py",
   "mimetype": "text/x-python",
   "name": "python",
   "nbconvert_exporter": "python",
   "pygments_lexer": "ipython3",
   "version": "3.11.1"
  }
 },
 "nbformat": 4,
 "nbformat_minor": 5
}
