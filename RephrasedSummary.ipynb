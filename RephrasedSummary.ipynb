{
 "cells": [
  {
   "cell_type": "code",
   "execution_count": 1,
   "id": "80a725e9",
   "metadata": {},
   "outputs": [],
   "source": [
    "import os\n",
    "import re\n",
    "import google.generativeai as genai\n",
    "from dotenv import load_dotenv\n",
    "from datetime import datetime"
   ]
  },
  {
   "cell_type": "code",
   "execution_count": null,
   "id": "80317952",
   "metadata": {},
   "outputs": [],
   "source": [
    "load_dotenv()\n",
    "api_key = os.getenv(\"API_KEY\")\n",
    "model = genai.GenerativeModel(\"models/gemini-1.5-flash\")"
   ]
  },
  {
   "cell_type": "code",
   "execution_count": null,
   "id": "0b6a7b04",
   "metadata": {},
   "outputs": [],
   "source": [
    "def load_summary(filepath=\"summary.md\"):\n",
    "    if not os.path.exists(filepath):\n",
    "        print(\"⚠️ Summary file not found!\")\n",
    "        return None\n",
    "    with open(filepath, \"r\", encoding=\"utf-8\") as f:\n",
    "        return f.read()"
   ]
  },
  {
   "cell_type": "code",
   "execution_count": null,
   "id": "bd93f421",
   "metadata": {},
   "outputs": [],
   "source": [
    "def rephrase_with_gemini(text):\n",
    "    prompt = f\"\"\"Rephrase the following summary in a detailed, professional, and structured manner suitable for platforms like LinkedIn or formal documentation.\n",
    "\n",
    "✅ Instructions:\n",
    "- Preserve the bullet point format\n",
    "- Elaborate the content mot making too long\n",
    "- Use clear and polished language\n",
    "- Avoid repetition\n",
    "- Keep it formal and technical if needed\n",
    "\n",
    "Summary:\n",
    "{text}\n",
    "\"\"\"\n",
    "\n",
    "    response = model.generate_content(prompt)\n",
    "    return response.text.strip()"
   ]
  },
  {
   "cell_type": "code",
   "execution_count": null,
   "id": "b0350fb6",
   "metadata": {},
   "outputs": [],
   "source": [
    "def save_rephrased(rephrased_text, out_path=\"rephrased_summary.md\"):\n",
    "    with open(out_path, \"w\", encoding=\"utf-8\") as f:\n",
    "        f.write(rephrased_text)\n",
    "    print(f\"✅ Rephrased summary saved to '{out_path}'\")"
   ]
  },
  {
   "cell_type": "code",
   "execution_count": null,
   "id": "c57d4637",
   "metadata": {},
   "outputs": [],
   "source": [
    "summary = load_summary()\n",
    "if summary:\n",
    "    clean_text = re.sub(r'#.*\\n', '', summary).strip() \n",
    "    new_summary = rephrase_with_gemini(clean_text)\n",
    "    save_rephrased(new_summary)"
   ]
  },
  {
   "cell_type": "code",
   "execution_count": null,
   "id": "408b032a",
   "metadata": {},
   "outputs": [],
   "source": [
    "import time\n",
    "import sys\n",
    "\n",
    "with open(\"rephrased_summary.md\", \"r\", encoding=\"utf-8\") as f:\n",
    "    rephrased_summary_text = f.read()\n",
    "\n",
    "def type_text(text, delay=0.005):\n",
    "    for char in text:\n",
    "        print(char, end='', flush=True)\n",
    "        time.sleep(delay)\n",
    "    print()  \n",
    "\n",
    "print(\"💬 Rephrased Summary:\\n\")\n",
    "type_text(rephrased_summary_text)"
   ]
  }
 ],
 "metadata": {
  "kernelspec": {
   "display_name": "Python 3",
   "language": "python",
   "name": "python3"
  },
  "language_info": {
   "codemirror_mode": {
    "name": "ipython",
    "version": 3
   },
   "file_extension": ".py",
   "mimetype": "text/x-python",
   "name": "python",
   "nbconvert_exporter": "python",
   "pygments_lexer": "ipython3",
   "version": "3.11.1"
  }
 },
 "nbformat": 4,
 "nbformat_minor": 5
}
